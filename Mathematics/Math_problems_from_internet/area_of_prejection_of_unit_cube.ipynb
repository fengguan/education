## Problem:
Consider a unit cube, if you project it to a hyper plane in the 3-d space. then what is the maximum of the area of the projection?

### analysis:
1. If $B$ is a convex body, then the area of the projection from $B$ to a surface with area form $\omega$ should be $\int_{\partial B}|\omega| / 2$.
2. If the projection unit normal vactor is $v = (v_x, v_y, v_z)$, then the corresponding $\omega = \omega_x + \omega_y + \omega_z$, inwich $\omega_x = v_x dy\wedge dz$.
3. If $B$ is a unit cube. Then the area is $\int_{\partial B}|\omega| / 2 = \sum_{\sigma in I, II, III} 2\int_\sigma |\omega|/2$, this is 
$$\sum_{w in x,y,z} |v_w| = |v_x| + |v_y| + |v_z|$$
4. Cauchy inequality shows that $(|v_x| + |v_y| + |v_z|)^2 \leq (|v_x|^2 + |v_y|^2 + |v_z|^2)*3=3$
5. Therefore: The area is less than or equale to $\sqrt{3}$.
6. let $v = (1/\sqrt{3},1/\sqrt{3},1/\sqrt{3})$, then we get the maximum.
