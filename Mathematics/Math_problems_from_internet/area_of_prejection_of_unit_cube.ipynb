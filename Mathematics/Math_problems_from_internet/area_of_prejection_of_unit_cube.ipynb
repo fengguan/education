## Problem:
Consider a unit cube, if you project it to a hyper plane in the 3-d space. then what is the maximum of the area of the projection?

### analysis:
$$\Omega$$
